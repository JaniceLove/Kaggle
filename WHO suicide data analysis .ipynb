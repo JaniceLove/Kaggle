{
 "cells": [
  {
   "cell_type": "markdown",
   "metadata": {},
   "source": [
    "## WHO suicide statistics\n",
    "WHO suicide statistics-worldwide\n",
    "Kaggle dataset: https://www.kaggle.com/szamil/who-suicide-statistics/kernels"
   ]
  },
  {
   "cell_type": "markdown",
   "metadata": {},
   "source": [
    "## Things to examine in data set:\n",
    "- total suicides per year (Have have worldwide suicide rates changed over time?)\n",
    "- total suicides per country \n",
    "- total suicides: male vs female \n",
    "- total suicides per age group\n",
    "- age group vs gender\n",
    "- "
   ]
  },
  {
   "cell_type": "code",
   "execution_count": 50,
   "metadata": {},
   "outputs": [],
   "source": [
    "import pandas as pd\n",
    "from plotnine import *\n",
    "import matplotlib.pyplot as plt\n",
    "import seaborn as sns"
   ]
  },
  {
   "cell_type": "code",
   "execution_count": 43,
   "metadata": {},
   "outputs": [],
   "source": [
    "df = pd.read_csv('who_suicide_statistics.csv', sep=',')"
   ]
  },
  {
   "cell_type": "code",
   "execution_count": 18,
   "metadata": {},
   "outputs": [
    {
     "data": {
      "text/html": [
       "<div>\n",
       "<style>\n",
       "    .dataframe thead tr:only-child th {\n",
       "        text-align: right;\n",
       "    }\n",
       "\n",
       "    .dataframe thead th {\n",
       "        text-align: left;\n",
       "    }\n",
       "\n",
       "    .dataframe tbody tr th {\n",
       "        vertical-align: top;\n",
       "    }\n",
       "</style>\n",
       "<table border=\"1\" class=\"dataframe\">\n",
       "  <thead>\n",
       "    <tr style=\"text-align: right;\">\n",
       "      <th></th>\n",
       "      <th>country</th>\n",
       "      <th>year</th>\n",
       "      <th>sex</th>\n",
       "      <th>age</th>\n",
       "      <th>suicides_no</th>\n",
       "      <th>population</th>\n",
       "    </tr>\n",
       "  </thead>\n",
       "  <tbody>\n",
       "    <tr>\n",
       "      <th>0</th>\n",
       "      <td>Albania</td>\n",
       "      <td>1985</td>\n",
       "      <td>female</td>\n",
       "      <td>15-24 years</td>\n",
       "      <td>NaN</td>\n",
       "      <td>277900.0</td>\n",
       "    </tr>\n",
       "    <tr>\n",
       "      <th>1</th>\n",
       "      <td>Albania</td>\n",
       "      <td>1985</td>\n",
       "      <td>female</td>\n",
       "      <td>25-34 years</td>\n",
       "      <td>NaN</td>\n",
       "      <td>246800.0</td>\n",
       "    </tr>\n",
       "    <tr>\n",
       "      <th>2</th>\n",
       "      <td>Albania</td>\n",
       "      <td>1985</td>\n",
       "      <td>female</td>\n",
       "      <td>35-54 years</td>\n",
       "      <td>NaN</td>\n",
       "      <td>267500.0</td>\n",
       "    </tr>\n",
       "    <tr>\n",
       "      <th>3</th>\n",
       "      <td>Albania</td>\n",
       "      <td>1985</td>\n",
       "      <td>female</td>\n",
       "      <td>5-14 years</td>\n",
       "      <td>NaN</td>\n",
       "      <td>298300.0</td>\n",
       "    </tr>\n",
       "    <tr>\n",
       "      <th>4</th>\n",
       "      <td>Albania</td>\n",
       "      <td>1985</td>\n",
       "      <td>female</td>\n",
       "      <td>55-74 years</td>\n",
       "      <td>NaN</td>\n",
       "      <td>138700.0</td>\n",
       "    </tr>\n",
       "  </tbody>\n",
       "</table>\n",
       "</div>"
      ],
      "text/plain": [
       "   country  year     sex          age  suicides_no  population\n",
       "0  Albania  1985  female  15-24 years          NaN    277900.0\n",
       "1  Albania  1985  female  25-34 years          NaN    246800.0\n",
       "2  Albania  1985  female  35-54 years          NaN    267500.0\n",
       "3  Albania  1985  female   5-14 years          NaN    298300.0\n",
       "4  Albania  1985  female  55-74 years          NaN    138700.0"
      ]
     },
     "execution_count": 18,
     "metadata": {},
     "output_type": "execute_result"
    }
   ],
   "source": [
    "df.head()"
   ]
  },
  {
   "cell_type": "code",
   "execution_count": 82,
   "metadata": {
    "collapsed": true
   },
   "outputs": [],
   "source": [
    "df['rate_per_100k'] = df['suicides_no'] / (df['population'] / 100000)"
   ]
  },
  {
   "cell_type": "code",
   "execution_count": 61,
   "metadata": {},
   "outputs": [
    {
     "data": {
      "image/png": "[encoded data removed]",
      "text/plain": [
       "<matplotlib.figure.Figure at 0x7f12ac893c10>"
      ]
     },
     "metadata": {},
     "output_type": "display_data"
    }
   ],
   "source": [
    "age_s = sns.barplot(x='age',y='suicides_no',data=df, palette='BuGn_r',\n",
    "                order=['5-14 years','15-24 years','25-34 years','35-54 years',\n",
    "                      '55-74 years','75+ years'])\n",
    "age_s.set_xticklabels(ax.get_xticklabels(), rotation=30)\n",
    "age_s.set_xlabel('Age')\n",
    "age_s.set_ylabel('Number of Suicides')\n",
    "age_s.set_title('Number of Suicides per Age Group')\n",
    "sns.plt.show()"
   ]
  },
  {
   "cell_type": "code",
   "execution_count": 66,
   "metadata": {},
   "outputs": [
    {
     "data": {
      "image/png": "[encoded data removed]",
      "text/plain": [
       "<matplotlib.figure.Figure at 0x7f12acbfc150>"
      ]
     },
     "metadata": {},
     "output_type": "display_data"
    }
   ],
   "source": [
    "gender_s = sns.barplot(x='sex', y='suicides_no', data=df)\n",
    "gender_s.set_xticklabels(gender_s.get_xticklabels())\n",
    "gender_s.set_xlabel=('Sex')\n",
    "gender_s.set_ylabel=('Number of Suicides')\n",
    "gender_s.set_title(\"Number of Suicides per Sex\")\n",
    "sns.plt.show()\n",
    "#Fix y label"
   ]
  },
  {
   "cell_type": "code",
   "execution_count": 76,
   "metadata": {},
   "outputs": [
    {
     "data": {
      "image/png": "[encoded data removed]",
      "text/plain": [
       "<matplotlib.figure.Figure at 0x7f12acb0b850>"
      ]
     },
     "metadata": {},
     "output_type": "display_data"
    }
   ],
   "source": [
    "year_s = sns.barplot(x='year',y='suicides_no',data=df, palette='BuGn_r')\n",
    "                \n",
    "year_s.set_xticklabels(year_s.get_xticklabels(), rotation=90)\n",
    "year_s.set_xlabel('Year')\n",
    "year_s.set_ylabel('Number of Suicides')\n",
    "year_s.set_title('Number of Suicides per Year')\n",
    "sns.plt.show()"
   ]
  },
  {
   "cell_type": "code",
   "execution_count": 83,
   "metadata": {},
   "outputs": [
    {
     "data": {
      "text/html": [
       "<div>\n",
       "<style>\n",
       "    .dataframe thead tr:only-child th {\n",
       "        text-align: right;\n",
       "    }\n",
       "\n",
       "    .dataframe thead th {\n",
       "        text-align: left;\n",
       "    }\n",
       "\n",
       "    .dataframe tbody tr th {\n",
       "        vertical-align: top;\n",
       "    }\n",
       "</style>\n",
       "<table border=\"1\" class=\"dataframe\">\n",
       "  <thead>\n",
       "    <tr style=\"text-align: right;\">\n",
       "      <th></th>\n",
       "      <th>year</th>\n",
       "      <th>suicides_no</th>\n",
       "      <th>population</th>\n",
       "      <th>rate_per_100k</th>\n",
       "    </tr>\n",
       "  </thead>\n",
       "  <tbody>\n",
       "    <tr>\n",
       "      <th>count</th>\n",
       "      <td>43776.000000</td>\n",
       "      <td>41520.000000</td>\n",
       "      <td>3.831600e+04</td>\n",
       "      <td>36060.000000</td>\n",
       "    </tr>\n",
       "    <tr>\n",
       "      <th>mean</th>\n",
       "      <td>1998.502467</td>\n",
       "      <td>193.315390</td>\n",
       "      <td>1.664091e+06</td>\n",
       "      <td>13.185094</td>\n",
       "    </tr>\n",
       "    <tr>\n",
       "      <th>std</th>\n",
       "      <td>10.338711</td>\n",
       "      <td>800.589926</td>\n",
       "      <td>3.647231e+06</td>\n",
       "      <td>19.902566</td>\n",
       "    </tr>\n",
       "    <tr>\n",
       "      <th>min</th>\n",
       "      <td>1979.000000</td>\n",
       "      <td>0.000000</td>\n",
       "      <td>2.590000e+02</td>\n",
       "      <td>0.000000</td>\n",
       "    </tr>\n",
       "    <tr>\n",
       "      <th>25%</th>\n",
       "      <td>1990.000000</td>\n",
       "      <td>1.000000</td>\n",
       "      <td>8.511275e+04</td>\n",
       "      <td>0.781784</td>\n",
       "    </tr>\n",
       "    <tr>\n",
       "      <th>50%</th>\n",
       "      <td>1999.000000</td>\n",
       "      <td>14.000000</td>\n",
       "      <td>3.806550e+05</td>\n",
       "      <td>5.975607</td>\n",
       "    </tr>\n",
       "    <tr>\n",
       "      <th>75%</th>\n",
       "      <td>2007.000000</td>\n",
       "      <td>91.000000</td>\n",
       "      <td>1.305698e+06</td>\n",
       "      <td>17.010064</td>\n",
       "    </tr>\n",
       "    <tr>\n",
       "      <th>max</th>\n",
       "      <td>2016.000000</td>\n",
       "      <td>22338.000000</td>\n",
       "      <td>4.380521e+07</td>\n",
       "      <td>300.751880</td>\n",
       "    </tr>\n",
       "  </tbody>\n",
       "</table>\n",
       "</div>"
      ],
      "text/plain": [
       "               year   suicides_no    population  rate_per_100k\n",
       "count  43776.000000  41520.000000  3.831600e+04   36060.000000\n",
       "mean    1998.502467    193.315390  1.664091e+06      13.185094\n",
       "std       10.338711    800.589926  3.647231e+06      19.902566\n",
       "min     1979.000000      0.000000  2.590000e+02       0.000000\n",
       "25%     1990.000000      1.000000  8.511275e+04       0.781784\n",
       "50%     1999.000000     14.000000  3.806550e+05       5.975607\n",
       "75%     2007.000000     91.000000  1.305698e+06      17.010064\n",
       "max     2016.000000  22338.000000  4.380521e+07     300.751880"
      ]
     },
     "execution_count": 83,
     "metadata": {},
     "output_type": "execute_result"
    }
   ],
   "source": [
    "df.describe()\n"
   ]
  },
  {
   "cell_type": "markdown",
   "metadata": {},
   "source": [
    "## Conclusions:\n",
    "- Men comprise the majority of suicides worldwide. (Probably because they are more likely to be successful, as reported elsewhere)\n",
    "- The year 2016 had a huge drop in the number of suicides \n",
    "- The age group with the greatest number of suicides is 35-54 years old."
   ]
  },
  {
   "cell_type": "code",
   "execution_count": null,
   "metadata": {
    "collapsed": true
   },
   "outputs": [],
   "source": []
  }
 ],
 "metadata": {
  "kernelspec": {
   "display_name": "Python 2",
   "language": "python",
   "name": "python2"
  },
  "language_info": {
   "codemirror_mode": {
    "name": "ipython",
    "version": 2
   },
   "file_extension": ".py",
   "mimetype": "text/x-python",
   "name": "python",
   "nbconvert_exporter": "python",
   "pygments_lexer": "ipython2",
   "version": "2.7.13"
  }
 },
 "nbformat": 4,
 "nbformat_minor": 2
}
